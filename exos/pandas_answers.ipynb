{
 "cells": [
  {
   "cell_type": "code",
   "execution_count": 1,
   "metadata": {},
   "outputs": [
    {
     "name": "stdout",
     "output_type": "stream",
     "text": [
      "103110.08171765343\n",
      "Moyenne des salaires annuels des répondants français: 65101.00777345919\n"
     ]
    }
   ],
   "source": [
    "import pandas as pd\n",
    "import re\n",
    "\n",
    "pd.set_option('display.max_columns', 10)\n",
    "df = pd.read_csv('../data/survey_results_public.csv')\n",
    "df_types = df.dtypes\n",
    "df_columns = df.shape[1]\n",
    "full_time = df['Employment'].value_counts().get('Employed, full-time',0) \n",
    "print(full_time)\n",
    "    \n",
    "value = \"35-44 years old\"\n",
    "filtering_age = df['Age'] == value\n",
    "percent = (filtering_age.value_counts()/ len(df)) * 100\n",
    "print(percent)\n",
    "\n",
    "\n",
    "to_delete = [\"Knowledge_1\", \"Knowledge_2\", \"Knowledge_3\", \"Knowledge_4\", \"Knowledge_5\",\n",
    "             \"Knowledge_6\", \"Knowledge_7\", \"Knowledge_8\", \"Frequency_1\", \"Frequency_2\", \"Frequency_3\"]\n",
    "df = df.drop(to_delete, axis = 1)\n",
    "\n",
    "NotEmployed = r'Not employed.'\n",
    "Master = r'Master.'\n",
    "\n",
    "filter = df[\n",
    "    (df['Employment'].str.contains(NotEmployed, case=False, na=False)) & \n",
    "    (df['EdLevel'].str.contains(Master, case=False, na=False))\n",
    "]\n",
    "print(filter)\n",
    "\n",
    "Moyenne_salaires = df['ConvertedCompYearly'].mean()\n",
    "print(Moyenne_salaires)\n",
    "\n",
    "\n",
    "filter_france = df['Country'] == 'France'\n",
    "moyenne_france = df.loc[filter_france, 'ConvertedCompYearly'].mean()\n",
    "print(\"Moyenne des salaires annuels des répondants français:\", moyenne_france)\n",
    "\n"
   ]
  }
 ],
 "metadata": {
  "kernelspec": {
   "display_name": "eval-venv",
   "language": "python",
   "name": "python3"
  },
  "language_info": {
   "codemirror_mode": {
    "name": "ipython",
    "version": 3
   },
   "file_extension": ".py",
   "mimetype": "text/x-python",
   "name": "python",
   "nbconvert_exporter": "python",
   "pygments_lexer": "ipython3",
   "version": "3.11.5"
  }
 },
 "nbformat": 4,
 "nbformat_minor": 2
}
